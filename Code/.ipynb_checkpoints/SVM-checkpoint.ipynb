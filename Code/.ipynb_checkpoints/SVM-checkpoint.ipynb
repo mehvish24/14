{
 "cells": [
  {
   "cell_type": "code",
   "execution_count": 2,
   "id": "e05ab334",
   "metadata": {},
   "outputs": [],
   "source": [
    "from sklearn.multiclass import OneVsRestClassifier\n",
    "from sklearn.svm import SVC\n",
    "import matplotlib.pyplot as plt\n",
    "from sklearn.metrics import accuracy_score, classification_report\n",
    "from sklearn.model_selection import train_test_split\n",
    "from sklearn.metrics import plot_confusion_matrix\n",
    "from mlxtend.plotting import plot_decision_regions\n",
    "from sklearn.svm import LinearSVC\n",
    "import pandas as pd\n",
    "from sklearn.feature_extraction.text import TfidfVectorizer\n",
    "from sklearn.feature_extraction.text import CountVectorizer"
   ]
  },
  {
   "cell_type": "code",
   "execution_count": 3,
   "id": "00f8332f",
   "metadata": {},
   "outputs": [
    {
     "data": {
      "text/html": [
       "<div>\n",
       "<style scoped>\n",
       "    .dataframe tbody tr th:only-of-type {\n",
       "        vertical-align: middle;\n",
       "    }\n",
       "\n",
       "    .dataframe tbody tr th {\n",
       "        vertical-align: top;\n",
       "    }\n",
       "\n",
       "    .dataframe thead th {\n",
       "        text-align: right;\n",
       "    }\n",
       "</style>\n",
       "<table border=\"1\" class=\"dataframe\">\n",
       "  <thead>\n",
       "    <tr style=\"text-align: right;\">\n",
       "      <th></th>\n",
       "      <th>ArticleId</th>\n",
       "      <th>Text</th>\n",
       "    </tr>\n",
       "  </thead>\n",
       "  <tbody>\n",
       "    <tr>\n",
       "      <th>0</th>\n",
       "      <td>1018</td>\n",
       "      <td>qpr keeper day heads for preston queens park r...</td>\n",
       "    </tr>\n",
       "    <tr>\n",
       "      <th>1</th>\n",
       "      <td>1319</td>\n",
       "      <td>software watching while you work software that...</td>\n",
       "    </tr>\n",
       "    <tr>\n",
       "      <th>2</th>\n",
       "      <td>1138</td>\n",
       "      <td>d arcy injury adds to ireland woe gordon d arc...</td>\n",
       "    </tr>\n",
       "    <tr>\n",
       "      <th>3</th>\n",
       "      <td>459</td>\n",
       "      <td>india s reliance family feud heats up the ongo...</td>\n",
       "    </tr>\n",
       "    <tr>\n",
       "      <th>4</th>\n",
       "      <td>1020</td>\n",
       "      <td>boro suffer morrison injury blow middlesbrough...</td>\n",
       "    </tr>\n",
       "    <tr>\n",
       "      <th>...</th>\n",
       "      <td>...</td>\n",
       "      <td>...</td>\n",
       "    </tr>\n",
       "    <tr>\n",
       "      <th>730</th>\n",
       "      <td>1923</td>\n",
       "      <td>eu to probe alitalia  state aid  the european ...</td>\n",
       "    </tr>\n",
       "    <tr>\n",
       "      <th>731</th>\n",
       "      <td>373</td>\n",
       "      <td>u2 to play at grammy awards show irish rock ba...</td>\n",
       "    </tr>\n",
       "    <tr>\n",
       "      <th>732</th>\n",
       "      <td>1704</td>\n",
       "      <td>sport betting rules in spotlight a group of mp...</td>\n",
       "    </tr>\n",
       "    <tr>\n",
       "      <th>733</th>\n",
       "      <td>206</td>\n",
       "      <td>alfa romeos  to get gm engines  fiat is to sto...</td>\n",
       "    </tr>\n",
       "    <tr>\n",
       "      <th>734</th>\n",
       "      <td>471</td>\n",
       "      <td>citizenship event for 18s touted citizenship c...</td>\n",
       "    </tr>\n",
       "  </tbody>\n",
       "</table>\n",
       "<p>735 rows × 2 columns</p>\n",
       "</div>"
      ],
      "text/plain": [
       "     ArticleId                                               Text\n",
       "0         1018  qpr keeper day heads for preston queens park r...\n",
       "1         1319  software watching while you work software that...\n",
       "2         1138  d arcy injury adds to ireland woe gordon d arc...\n",
       "3          459  india s reliance family feud heats up the ongo...\n",
       "4         1020  boro suffer morrison injury blow middlesbrough...\n",
       "..         ...                                                ...\n",
       "730       1923  eu to probe alitalia  state aid  the european ...\n",
       "731        373  u2 to play at grammy awards show irish rock ba...\n",
       "732       1704  sport betting rules in spotlight a group of mp...\n",
       "733        206  alfa romeos  to get gm engines  fiat is to sto...\n",
       "734        471  citizenship event for 18s touted citizenship c...\n",
       "\n",
       "[735 rows x 2 columns]"
      ]
     },
     "execution_count": 3,
     "metadata": {},
     "output_type": "execute_result"
    }
   ],
   "source": [
    "df = pd.read_csv(\"C:\\\\Users\\\\HP\\\\OneDrive\\\\Desktop\\\\14\\\\dataset\\\\News Test.csv\")\n",
    "df"
   ]
  },
  {
   "cell_type": "code",
   "execution_count": 4,
   "id": "cdcd0db2",
   "metadata": {},
   "outputs": [
    {
     "data": {
      "text/plain": [
       "bookmakers back aviator for oscar the aviator has been tipped by uk bookmakers as the favourite to win the best film award at this year s oscars.  ray star jamie foxx is clear favourite in the best actor category while million dollar baby s hilary swank is tipped to win the best actress prize. bookmakers predict cate blanchett will be named best supporting actress. william hill and ladbrokes have given the aviator 4/9 and 8/13 odds of winning best film  with million dollar baby in second place at 9/4.  bet direct and bet 365 also tip the aviator  with the majority of bookmakers regarding finding neverland as the outsider. the aviator is also widely tipped to win the best director prize for martin scorsese. british star clive owen is second favourite at william hill to take the best supporting actor award  for his performance in closer. the favourite in that category is sideways star thomas hayden church. vera drake star imelda staunton has 5/1 odds of winning the best actress oscar at bet 365 and william hill  ahead of fellow uk star kate winslet who has odds of 25/1 at william hill.  mike leigh is the outsider in the best director category for vera drake  a position he holds jointly with ray s taylor hackford at bookmakers vc bet. this year s academy awards will be handed out in hollywood on 27 february. x factor judge sharon osbourne will present sky television s live coverage of the event. meanwhile  clive owen s best supporting actor nomination has led a bookmaker to shorten his odds of becoming the next james bond. he has moved from 4/1 to 5/2 favourite to play 007  with hugh jackman and ewan mcgregor joint second favourite.  clive owen s nomination has sparked a betting frenzy from james bond fans  who feel that his heightened global recognition will have done his chances of becoming the next bond a world of good   said william hill spokesman rupert adams.                                                                                                                                                                                                                                                                                                                                                                                                                                                                                                                                                                                                                                                                                                                                                                                                                                                                                                                                                                                                                                                                                                                                                                                                                                                                                                                                                                                                                                                                                                                                                                                                                                                                                                                                                                                                                                                                                                                                                                                                                             2\n",
       "kenyan school turns to handhelds at the mbita point primary school in western kenya students click away at a handheld computer with a stylus.  they are doing exercises in their school textbooks which have been digitised. it is a pilot project run by eduvision  which is looking at ways to use low cost computer systems to get up-to-date information to students who are currently stuck with ancient textbooks. matthew herren from eduvision told the bbc programme go digital how the non-governmental organisation uses a combination of satellite radio and handheld computers called e-slates.  the e-slates connect via a wireless connection to a base station in the school. this in turn is connected to a satellite radio receiver. the data is transmitted alongside audio signals.  the base station processes the information from the satellite transmission and turns it into a form that can be read by the handheld e-slates.  it downloads from the satellite and every day processes the stream  sorts through content for the material destined for the users connected to it. it also stores this on its hard disc.   the system is cheaper than installing and maintaining an internet connection and conventional computer network. but mr herren says there are both pros and cons to the project.  it s very simple to set up  just a satellite antenna on the roof of the school  but it s also a one-way connection  so getting feedback or specific requests from end users is difficult.   the project is still at the pilot stage and eduvision staff are on the ground to attend to teething problems with the linux-based system.  the content is divided into visual information  textual information and questions. users can scroll through these sections independently of each other.  eduvision is planning to include audio and video files as the system develops and add more content. mr herren says this would vastly increase the opportunities available to the students. he is currently in negotiations to take advantage of a project being organised by search site google to digitise some of the world s largest university libraries.  all books in the public domain  something like 15 million  could be put on the base stations as we manufacture them. then every rural school in africa would have access to the same libraries as the students in oxford and harvard  currently the project is operating in an area where there is mains electricity. but mr herren says eduvision already has plans to extend it to more remote regions.  we plan to put a solar panel at the school with the base station  have the e-slates charge during the day when the children are in school  then they can take them home at night and continue working.  maciej sundra  who designed the user interface for the e-slates  says the project s ultimate goal is levelling access to knowledge around the world.  why in this age when most people do most research using the internet are students still using textbooks  the fact that we are doing this in a rural developing country is very exciting - as they need it most.                                                                                                                                                                                                                                                                                                                                                                                                                                                                                                                                                                                                                                                                                                                                                                                                       2\n",
       "speak easy plan for media players music and film fans will be able to control their digital media players just by speaking to them  under plans in development by two us firms.  scansoft and gracenote are developing technology to give people access to their film and music libraries simply by voice control. they want to give people hands-free access to digital music and films in the car  or at home or on the move. huge media libraries on some players can make finding single songs hard.  voice command-and-control unlocks the potential of devices that can store large digital music collections   said ross blanchard  vice president of business development for gracenote.  these applications will radically change the car entertainment experience  allowing drivers to enjoy their entire music collections without ever taking their hands off the steering wheel   he added.  gracenote provides music library information for millions of different albums for jukeboxes such as apple s itunes. the new technology will be designed so that people can play any individual song or movie out of a collection  just by saying its name. users will also be able to request music that fits a mood or an occasion  or a film just by saying the actor s name.  speech is a natural fit for today s consumer devices  particularly in mobile environments   said alan schwartz  vice president of speechworks  a division of scansoft.  pairing our voice technologies with gracenote s vast music database will bring the benefits of speech technologies to a host of consumer devices and enable people to access their media in ways they ve never imagined.  the two firms did not say if they were developing the technology for languages other than english. users will also be able to get more information on a favourite song they have been listening to by asking:  what is this   portable players are becoming popular in cars and a number of auto firms are working with apple to device interfaces to control the firm s ipod music player. but with tens of thousands of songs able to be stored on one player  voice control would make finding that elusive track by elvis presley much easier. the firms gave no indication about whether the ipod  or any other media player  were in mind for the use of the voice control technology. the companies estimate that the technology will be available in the fourth quarter of 2005.                                                                                                                                                                                                                                                                                                                                                                                                                                                                                                                                                                                                                                                                                                                                                                                                                                                                                                                                                                                                                                                                                                                                                                                                                                                                                                                                                                                                                                                                                                              2\n",
       "famed music director viotti dies conductor marcello viotti  director of venice s famous la fenice theatre  has died in germany at 50.  viotti  director of la fenice since 2002  conducted at renowned opera houses worldwide including milan s la scala and the vienna state opera. his time at la fenice coincided with its reopening in 2003 after it was destroyed by fire in 1996. he fell into a coma after suffering a stroke during rehearsals for jules massenet s manon last week.  he conducted some of the best orchestras in the world including the berlin philharmonic and the english chamber orchestra. viotti was born in switzerland and studied the piano  cello and singing at the lausanne conservatory. his career breakthrough came in 1982 when he won first prize at the gino marinuzzi conducting competition in italy. viotti established himself as chief conductor of the turin opera and went on to become chief conductor of munich s radio orchestra. at la fenice viotti was widely acclaimed for his production of the french composer massenet s thais and some of his other productions included giuseppe verdi s la traviata and richard strauss s ariadne auf naxos.  the last opera he directed at la fenice was massenet s le roi de lahore. viotti s debut at the new york s metropolitan opera came in 2000 with giacomo puccini s madame butterfly  followed by la boheme  la traviata and fromental halevy s la juive. giampaolo vianello  superintendent of the fenice theatre foundation  said:  i am filled with extreme sadness because  other than a great artist  he is missed as a friend - a main character in the latest joyous times  during the rebirth of our theatre.  viotti s last public performance was on 5 february when he conducted vincenzo bellini s norma at the vienna state opera.                                                                                                                                                                                                                                                                                                                                                                                                                                                                                                                                                                                                                                                                                                                                                                                                                                                                                                                                                                                                                                                                                                                                                                                                                                                                                                                                                                                                                                                                                                                                                                                                                                                                                                                                                                                                                                                                                                                                                                                                                                                                                                                                          2\n",
       "howl helps boost japan s cinemas japan s box office received a 3.8% boost last year  with ticket sales worth 211bn yen (£1.08bn).  the surge was led by animated movie howl s moving castle  which took 20bn yen (£102m) to become the biggest film in japan in 2004. it is expected to match the 30.7bn yen (£157m) record of hayao miyazaki s previous film spirited away. japan motion picture producers figures showed that 170 million cinema admissions were made in japan in 2004. the last samurai  starring tom cruise  was the biggest foreign movie hit in japan last year  taking 13.8bn yen (£70.7m).  it was followed by harry potter and the prisoner of azkaban  finding nemo and the lord of the rings: the return of the king. the second highest-grossing japanese film was romantic drama crying out love in the centre of the world  followed by be with you and pocket monsters advanced generation. japanese films accounted for 37.5% of japan s box office total last year  with foreign films taking the remaining 62.5%. this represented a 4.5% gain for the proportion of japanese films in 2004 compared to 2003. the number of japanese films released rose to 310 in 2004 from 287 the previous year. sales of movies on dvd and video amounted to 497bn yen (£2.54bn) for the year.                                                                                                                                                                                                                                                                                                                                                                                                                                                                                                                                                                                                                                                                                                                                                                                                                                                                                                                                                                                                                                                                                                                                                                                                                                                                                                                                                                                                                                                                                                                                                                                                                                                                                                                                                                                                                                                                                                                                                                                                                                                                                                                                                                                                                                                                                                                                                                                                                                                                                                                                                                                                                                                                               2\n",
       "                                                                                                                                                                                                                                                                                                                                                                                                                                                                                                                                                                                                                                                                                                                                                                                                                                                                                                                                                                                                                                                                                                                                                                                                                                                                                                                                                                                                                                                                                                                                                                                                                                                                                                                                                                                                                                                                                                                                                                                                                                                                                                                                                                                                                                                                                                                                                                                                                                                                                                                                                                                                                                                                                                                                                                                                                                                                                                                                                                                                                                                                                                                                                                                                                                                                                                                                                                                                                                                                                                                                                                                                                                                                                                                                                                                                                                                                                                                                                                                                  ..\n",
       "net regulation  still possible  the blurring of boundaries between tv and the internet raises questions of regulation  watchdog ofcom has said.  content on tv and the internet is set to move closer this year as tv-quality video online becomes a norm. at a debate in westminster  the net industry considered the options. lord currie  chairman of super-regulator ofcom  told the panel that protecting audiences would always have to be a primary concern for the watchdog. despite having no remit for the regulation of net content  disquiet has increased among internet service providers as speeches made by ofcom in recent months hinted that regulation might be an option. at the debate  organised by the internet service providers  association (ispa)  lord currie did not rule out the possibility of regulation.   the challenge will arise when boundaries between tv and the internet truly blur and then there is a balance to be struck between protecting consumers and allowing them to assess the risks themselves   he said. adopting the rules that currently exist to regulate tv content or self-regulation  which is currently the practice of the net industry  will be up for discussion.  some studies suggest that as many as eight million households in the uk could have adopted broadband by the end of 2005  and the technology opens the door to tv content delivered over the net. more and more internet service providers and media companies are streaming video content on the web. bt has already set up an entertainment division to create and distribute content that could come from sources such as bskyb  itv and the bbc. head of the division  andrew burke  spoke about the possibility of creating content for all platforms.  how risque can i be in this new age  with celebrity chefs serving up more expletives than hot dinners  surely i can push it to the limit   he said.  in fact  he said  if content has been requested by consumers and they have gone to lengths to download it  then maybe it should be entirely regulation free. internet service providers have long claimed no responsibility for the content they carry on their servers since the law commission dubbed them  mere conduits  back in 2002. this defence does not apply if they have actual knowledge of illegal content and have failed to remove it. the level of responsibility they have has been tested in several high-profile legal cases. richard ayers  portal director at tiscali  said there was little point trying to regulate the internet because it would be impossible. huge changes are afoot in 2005  he predicted  as companies such as the bbc offer tv content over the net. the bbc s planned interactive media player which will give surfers the chance to download programmes such as eastenders and top gear will make net tv mainstream and raise a whole new set of questions  he said.  one of these will be about the vast sums of money involved in maintaining the network to supply such a huge quantity of data and could herald a new digital licence fee  said mr ayers. as inappropriate net content  most obviously pornography viewed by children  continues to dominate the headlines  internet regulation remains a political issue said mp richard allan  liberal democrat spokesman on it. mr allan thinks that the answer could lie somewhere between the cries of  impossible to regulate  and  just apply offline laws online . in fact  instead of seeing regulation brought online  the future could bring an end to regulation as we know it for all tv content. after lord currie departed  the panel agreed that this could be a reality and that for the internet people power is likely to reign.  if content is on-demand  consumers have pulled it up rather than had pushed to them  then it is the consumers  choice to watch it. there is no watershed on the net   said mr burke.    1\n",
       "strike threat over pension plans millions of public service workers could strike if ministers scrap their final salary pension scheme and make them work longer  warn union leaders.  the cabinet office has confirmed it is reviewing the current pension system  prompting unions representing 4.5m workers to threaten united action. they believe the plans include raising the mandatory retirement age for public service workers from 60 to 65. the government says unions will be consulted before any changes are made.  it is thought the proposed overhaul  due on thursday  could mean pensions could be based on a  career average  salary. for each year served  staff currently get one eightieth of their highest salary in the final three years. ministers will be anxious to avoid mass strike action in the lead-up to the next general election  which is widely expected next may. in a statement on sunday  the cabinet office said it was reviewing the civil service pension scheme  and hoped to announce proposals soon.  unions will of course be consulted about any proposed changes.  public sector pension schemes need to remain affordable and sustainable. people are living longer and pensions are getting more expensive.  to maintain the long-term affordability of our pension scheme  the government announced in its green paper on pensions that pension age would rise from 60 to 65.  on monday  tony blair s official spokesman declined to say whether the prime minister backed the plans. he said:  what s important is that there s a process going on  it s out for consultation at the moment  let s wait for that process to complete itself.   there is already widespread anger over the chancellor s plans to get rid of more than 100 000 civil servants. now public service unions are united against the plans and the trades union congress is discussing the issue next monday. dave prentis  general secretary of unison  said changes to pension provisions for workers in the public sector would mean they had to pay in more but would still face a raw deal.  members working in the nhs or for local government have never had high pay or city bonuses  but they could look forward to a decent pension - now all that is being taken away   he said.  what really riles me is the breathtaking hypocrisy of mps who recently voted themselves the best pension scheme in europe  but say they can t afford it for anyone else.  this is a position that unison cannot accept and will oppose. it will lead to conflict between unison and the government  if not this year then next.   mr prentis said workers did not want to go on strike and called for talks between unions and the highest level of government. mark serwotka  from the public and commercial services union said there should be a co-ordinated one day strike unless there was a government rethink. the fire brigades union said the government was planning to cut ill health retirement benefits for firefighters and other measures to chip away at pensions. pensions officer paul woolstenholmes said:  the pensions of millions of public sector workers are under threat - apart from mps and judges who have the most generous pensions arrangements in the country.                                                                                                                                                                                                                                                                                                                                                                                                                                                                                                                                                                                                                                                                       1\n",
       "low-cost airlines hit eurotunnel channel tunnel operator eurotunnel has seen sales fall in the face of the upsurge in european low-cost airlines.  the firm said sales were down 4% in 2004 to 789m euros ($1.03bn; £548m).  the impact of the development of no-frills airlines is being felt ever more strongly   said chief executive jean-louis raymond. income from its vehicle-carrying shuttle services fell 7%  although 15% more passengers meant a 2% rise in railway revenue.  the cross-channel truck market is improving  eurotunnel said  but warned that it was not benefiting since much of the traffic was in containers destined for ports. the passenger-only trains which use the tunnel are run by a separate company  eurostar.  eurotunnel is still struggling with debts of more than 6bn euros. the company is currently kept afloat by the 200-plus banks to whom it owes the money. a shareholder revolt threw out the old board in 2004. but the bbc s business editor  jeff randall  said the banks could yet step in and take over altogether.  at the moment it can t even service the interest on its debt   he said.  this is a company in the departure lounge of life.                                                                                                                                                                                                                                                                                                                                                                                                                                                                                                                                                                                                                                                                                                                                                                                                                                                                                                                                                                                                                                                                                                                                                                                                                                                                                                                                                                                                                                                                                                                                                                                                                                                                                                                                                                                                                                                                                                                                                                                                                                                                                                                                                                                                                                                                                                                                                                                                                                                                                                                                                                                                                                                                                                                                                                                          1\n",
       "bates seals takeover ken bates has completed his takeover of leeds united.  the 73-year-old former chelsea chairman sealed the deal at 0227 gmt on friday  and has bought a 50% stake in the club. he said:  i m delighted to be stepping up to the mantel at such a fantastic club. i recognise leeds as a great club that has fallen on hard times.  we have a lot of hard work ahead to get the club back where it belongs in the premiership  and with the help of our fans we will do everything we can.  bates bought his stake under the guise of a geneva-based company known as the forward sports fund. he revealed that part of his plan is to buy back leeds  elland road stadium and thorp arch training ground in due course.   it s going to be a tough jon and the first task is to stabilise the cash flow and sort out the remaining creditors   bates added.  but there is light at the end of a very long tunnel. for the past year it has been a matter of firefighting - now we can start running the club again.  outgoing leeds chairman gerald krasner said:  this deal ensures the medium to long term survival of the club and i believe mr bates  proposals are totally for the benefit of the club.  we are content that under mr bates  leeds united will continue to consolidate and move forward.  when we took over leeds united in march 2004  the club had a debt of £103m  since that date  my board has succeeded in reducing the debt to under £25m.  we worked tirelessly to solve all of the problems at leeds united.  eighty percent of the problems have already been overcome and we came to this agreement with mr bates to secure its ongoing success.  krasner revealed that his consortium has been asked to remain in the background at the club for an undisclosed period to help ensure a smooth hand-over. he will stay on in an unpaid capacity while peter lorimer will continue in his role as director and point of contact for the fans and peter mccormick will serve as a consultant to the incoming board. the other outgoing directors have agreed to leave their loans of £4.5m in the company for the next four years. on leeds  new-look board it is understood that lorimer will be joined by former chelsea finance director yvonne todd and bates  lawyer mark taylor.  krasner refused to give any details of the finances involved in the takeover. he told bbc five live:  i am not going into the figures. if ken wants to give them up that is up to him. i can not tell you what the money will be used for.  this dea l is not about money for the current board. in the last four months i never saw any cheques until this week from one person. i am not stretching figures  we don t discuss internal arrangements.  bates stepped down as chelsea chairman in march last year following roman abramovich s £140m takeover at stamford bridge. in may  he made a proposal to invest £10m in sheffield wednesday  but this was rejected by the club. sebastien sainsbury had been close to a takeover of leeds but withdrew his £25m offer last week.  his efforts failed after he revealed it would take £40m to stage a takeover  and that the club will also lose £10m over the next six months. the club was on the brink of administration - and the deduction of 10 points by the football league - before bates  arrival but his investment has spared them that prospect.                                                                                                                                                                                                                                                                                                                                                                                                                                                                                                                                     1\n",
       "irish duo could block man utd bid irishmen jp mcmanus and john magnier  who own a 29% stake in manchester united  will reportedly reject any formal £800m offer for the club.  the sunday times and the sunday telegraph say they will oppose any formal £800m takeover bid from us tycoon malcom glazer. mr glazer got permission to look at the club s accounts last week. irish billionaires mr mcmanus and mr magnier are said to believe that an £800m bid undervalues club prospects.  mr magnier and mr mcmanus  who hold their stake through their cubic expression investment vehicle have the power to block a bid. mr glazer s financial backers  including jp morgan  the us investment bank have said they won t back a bid unless it receives backing from the owners of at least 75% of the club s shares. however  there has been much speculation that the irish duo simply do not think the price offered - 300p a share - is high enough. mr glazer has been stalking the premier league football club since 2003.  mr magnier and mr mcmanus issued a statement late on friday saying that they remained  long-term investors  in man utd. the sunday telegraph says the board of manchester united also considered a management buyout at just over 300p but did not go ahead with it.                                                                                                                                                                                                                                                                                                                                                                                                                                                                                                                                                                                                                                                                                                                                                                                                                                                                                                                                                                                                                                                                                                                                                                                                                                                                                                                                                                                                                                                                                                                                                                                                                                                                                                                                                                                                                                                                                                                                                                                                                                                                                                                                                                                                                                                                                                                                                                                                                                                                                                                                                                                                                                                                                        1\n",
       "Name: Text, Length: 722, dtype: int64"
      ]
     },
     "execution_count": 4,
     "metadata": {},
     "output_type": "execute_result"
    }
   ],
   "source": [
    "df['Text'].value_counts()"
   ]
  },
  {
   "cell_type": "code",
   "execution_count": 5,
   "id": "295589d8",
   "metadata": {},
   "outputs": [],
   "source": [
    "vectorizer = CountVectorizer(stop_words='english')"
   ]
  },
  {
   "cell_type": "code",
   "execution_count": 6,
   "id": "4e5d20a3",
   "metadata": {},
   "outputs": [],
   "source": [
    "all_features = vectorizer.fit_transform(df.Text.astype('U'))"
   ]
  },
  {
   "cell_type": "code",
   "execution_count": 7,
   "id": "8e3b347b",
   "metadata": {},
   "outputs": [
    {
     "data": {
      "text/plain": [
       "(735, 18176)"
      ]
     },
     "execution_count": 7,
     "metadata": {},
     "output_type": "execute_result"
    }
   ],
   "source": [
    "all_features.shape"
   ]
  },
  {
   "cell_type": "code",
   "execution_count": 8,
   "id": "f35896b0",
   "metadata": {},
   "outputs": [],
   "source": [
    "X_train, X_test, y_train, y_test = train_test_split(all_features, df.Text, test_size=0.3, random_state=42)"
   ]
  },
  {
   "cell_type": "code",
   "execution_count": 9,
   "id": "62c682ca",
   "metadata": {},
   "outputs": [
    {
     "name": "stdout",
     "output_type": "stream",
     "text": [
      "(514, 18176)\n"
     ]
    }
   ],
   "source": [
    "print(X_train.shape)"
   ]
  },
  {
   "cell_type": "code",
   "execution_count": 10,
   "id": "7e0bf125",
   "metadata": {},
   "outputs": [
    {
     "data": {
      "text/plain": [
       "536    electronics firms eye plasma deal consumer ele...\n",
       "259    gardener wins double in glasgow britain s jaso...\n",
       "137    game firm holds  cast  auditions video game fi...\n",
       "227    terror detainees win lords appeal detaining fo...\n",
       "688    brown hits back in blair rift row gordon brown...\n",
       "                             ...                        \n",
       "71     greene sets sights on world title maurice gree...\n",
       "106    blair to face mps amid feud talk tony blair fa...\n",
       "270    china continues breakneck growth china s econo...\n",
       "435    algeria hit by further gas riots algeria suffe...\n",
       "102    crossrail link  to get go-ahead  the £10bn cro...\n",
       "Name: Text, Length: 514, dtype: object"
      ]
     },
     "execution_count": 10,
     "metadata": {},
     "output_type": "execute_result"
    }
   ],
   "source": [
    "y_train"
   ]
  },
  {
   "cell_type": "code",
   "execution_count": 11,
   "id": "ad77da34",
   "metadata": {},
   "outputs": [],
   "source": [
    "svm = LinearSVC(random_state=42)\n"
   ]
  },
  {
   "cell_type": "code",
   "execution_count": 12,
   "id": "f232444e",
   "metadata": {},
   "outputs": [],
   "source": [
    "ovr_classifier = OneVsRestClassifier(svm)"
   ]
  },
  {
   "cell_type": "code",
   "execution_count": 13,
   "id": "fa415617",
   "metadata": {},
   "outputs": [
    {
     "name": "stderr",
     "output_type": "stream",
     "text": [
      "C:\\Users\\HP\\.conda\\envs\\tensorflow\\lib\\site-packages\\sklearn\\svm\\_base.py:986: ConvergenceWarning: Liblinear failed to converge, increase the number of iterations.\n",
      "  \"the number of iterations.\", ConvergenceWarning)\n",
      "C:\\Users\\HP\\.conda\\envs\\tensorflow\\lib\\site-packages\\sklearn\\svm\\_base.py:986: ConvergenceWarning: Liblinear failed to converge, increase the number of iterations.\n",
      "  \"the number of iterations.\", ConvergenceWarning)\n",
      "C:\\Users\\HP\\.conda\\envs\\tensorflow\\lib\\site-packages\\sklearn\\svm\\_base.py:986: ConvergenceWarning: Liblinear failed to converge, increase the number of iterations.\n",
      "  \"the number of iterations.\", ConvergenceWarning)\n",
      "C:\\Users\\HP\\.conda\\envs\\tensorflow\\lib\\site-packages\\sklearn\\svm\\_base.py:986: ConvergenceWarning: Liblinear failed to converge, increase the number of iterations.\n",
      "  \"the number of iterations.\", ConvergenceWarning)\n",
      "C:\\Users\\HP\\.conda\\envs\\tensorflow\\lib\\site-packages\\sklearn\\svm\\_base.py:986: ConvergenceWarning: Liblinear failed to converge, increase the number of iterations.\n",
      "  \"the number of iterations.\", ConvergenceWarning)\n",
      "C:\\Users\\HP\\.conda\\envs\\tensorflow\\lib\\site-packages\\sklearn\\svm\\_base.py:986: ConvergenceWarning: Liblinear failed to converge, increase the number of iterations.\n",
      "  \"the number of iterations.\", ConvergenceWarning)\n",
      "C:\\Users\\HP\\.conda\\envs\\tensorflow\\lib\\site-packages\\sklearn\\svm\\_base.py:986: ConvergenceWarning: Liblinear failed to converge, increase the number of iterations.\n",
      "  \"the number of iterations.\", ConvergenceWarning)\n",
      "C:\\Users\\HP\\.conda\\envs\\tensorflow\\lib\\site-packages\\sklearn\\svm\\_base.py:986: ConvergenceWarning: Liblinear failed to converge, increase the number of iterations.\n",
      "  \"the number of iterations.\", ConvergenceWarning)\n",
      "C:\\Users\\HP\\.conda\\envs\\tensorflow\\lib\\site-packages\\sklearn\\svm\\_base.py:986: ConvergenceWarning: Liblinear failed to converge, increase the number of iterations.\n",
      "  \"the number of iterations.\", ConvergenceWarning)\n",
      "C:\\Users\\HP\\.conda\\envs\\tensorflow\\lib\\site-packages\\sklearn\\svm\\_base.py:986: ConvergenceWarning: Liblinear failed to converge, increase the number of iterations.\n",
      "  \"the number of iterations.\", ConvergenceWarning)\n",
      "C:\\Users\\HP\\.conda\\envs\\tensorflow\\lib\\site-packages\\sklearn\\svm\\_base.py:986: ConvergenceWarning: Liblinear failed to converge, increase the number of iterations.\n",
      "  \"the number of iterations.\", ConvergenceWarning)\n"
     ]
    }
   ],
   "source": [
    "ovr_classifier = ovr_classifier.fit(X_train, y_train)\n"
   ]
  },
  {
   "cell_type": "code",
   "execution_count": 14,
   "id": "7affd488",
   "metadata": {},
   "outputs": [],
   "source": [
    "prediction = ovr_classifier.predict(X_test)"
   ]
  },
  {
   "cell_type": "code",
   "execution_count": null,
   "id": "81f4549f",
   "metadata": {},
   "outputs": [],
   "source": [
    "print(f\"Test Set Accuracy : {accuracy_score(y_test, prediction) * 100} %\\n\\n\")\n",
    "print(f\"Classification Report : \\n\\n{classification_report(y_test, prediction)}\")"
   ]
  },
  {
   "cell_type": "code",
   "execution_count": null,
   "id": "f8aa49fa",
   "metadata": {},
   "outputs": [],
   "source": [
    "example = ['loan money didnt credit in my account',\n",
    "          'maywather is the best boxer in the world right now',\n",
    "          'You have to go to the gym if you want to build nice physique',\n",
    "          'Harshil is still in school']"
   ]
  },
  {
   "cell_type": "code",
   "execution_count": null,
   "id": "3c536e0a",
   "metadata": {},
   "outputs": [],
   "source": [
    "doc_term_matrix = vectorizer.transform(example)"
   ]
  },
  {
   "cell_type": "code",
   "execution_count": null,
   "id": "8306dd9c",
   "metadata": {},
   "outputs": [],
   "source": [
    "model.predict(doc_term_matrix)"
   ]
  },
  {
   "cell_type": "code",
   "execution_count": null,
   "id": "6006a460",
   "metadata": {},
   "outputs": [],
   "source": []
  }
 ],
 "metadata": {
  "kernelspec": {
   "display_name": "Python 3",
   "language": "python",
   "name": "python3"
  },
  "language_info": {
   "codemirror_mode": {
    "name": "ipython",
    "version": 3
   },
   "file_extension": ".py",
   "mimetype": "text/x-python",
   "name": "python",
   "nbconvert_exporter": "python",
   "pygments_lexer": "ipython3",
   "version": "3.6.13"
  }
 },
 "nbformat": 4,
 "nbformat_minor": 5
}
